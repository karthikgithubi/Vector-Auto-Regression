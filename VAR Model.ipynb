{
 "cells": [
  {
   "cell_type": "code",
   "execution_count": 28,
   "id": "6371db96",
   "metadata": {},
   "outputs": [],
   "source": [
    "# importing the libraries\n",
    "from statsmodels.graphics.tsaplots import plot_acf, plot_pacf          \n",
    "from statsmodels.tsa.statespace.varmax import VARMAX            \n",
    "from statsmodels.tsa.api import VAR                            \n",
    "from statsmodels.tsa.stattools import grangercausalitytests, adfuller  \n",
    "from tqdm import tqdm_notebook                                        \n",
    "from itertools import product                                          \n",
    "import matplotlib.pyplot as plt                                        \n",
    "import statsmodels.api as sm                                            \n",
    "import pandas as pd\n",
    "import numpy as np                                          \n",
    "import warnings            \n",
    "warnings.filterwarnings('ignore')                                       "
   ]
  },
  {
   "cell_type": "markdown",
   "id": "21d0e982",
   "metadata": {},
   "source": [
    "###### Vecter auto regression is used when two or more time series which are interdependent on each other"
   ]
  },
  {
   "cell_type": "code",
   "execution_count": 29,
   "id": "577f28bc",
   "metadata": {},
   "outputs": [
    {
     "name": "stdout",
     "output_type": "stream",
     "text": [
      "(123, 8)\n"
     ]
    },
    {
     "data": {
      "text/html": [
       "<div>\n",
       "<style scoped>\n",
       "    .dataframe tbody tr th:only-of-type {\n",
       "        vertical-align: middle;\n",
       "    }\n",
       "\n",
       "    .dataframe tbody tr th {\n",
       "        vertical-align: top;\n",
       "    }\n",
       "\n",
       "    .dataframe thead th {\n",
       "        text-align: right;\n",
       "    }\n",
       "</style>\n",
       "<table border=\"1\" class=\"dataframe\">\n",
       "  <thead>\n",
       "    <tr style=\"text-align: right;\">\n",
       "      <th></th>\n",
       "      <th>rgnp</th>\n",
       "      <th>pgnp</th>\n",
       "      <th>ulc</th>\n",
       "      <th>gdfco</th>\n",
       "      <th>gdf</th>\n",
       "      <th>gdfim</th>\n",
       "      <th>gdfcf</th>\n",
       "      <th>gdfce</th>\n",
       "    </tr>\n",
       "    <tr>\n",
       "      <th>date</th>\n",
       "      <th></th>\n",
       "      <th></th>\n",
       "      <th></th>\n",
       "      <th></th>\n",
       "      <th></th>\n",
       "      <th></th>\n",
       "      <th></th>\n",
       "      <th></th>\n",
       "    </tr>\n",
       "  </thead>\n",
       "  <tbody>\n",
       "    <tr>\n",
       "      <th>1959-01-01</th>\n",
       "      <td>1606.4</td>\n",
       "      <td>1608.3</td>\n",
       "      <td>47.5</td>\n",
       "      <td>36.9</td>\n",
       "      <td>37.4</td>\n",
       "      <td>26.9</td>\n",
       "      <td>32.3</td>\n",
       "      <td>23.1</td>\n",
       "    </tr>\n",
       "    <tr>\n",
       "      <th>1959-04-01</th>\n",
       "      <td>1637.0</td>\n",
       "      <td>1622.2</td>\n",
       "      <td>47.5</td>\n",
       "      <td>37.4</td>\n",
       "      <td>37.5</td>\n",
       "      <td>27.0</td>\n",
       "      <td>32.2</td>\n",
       "      <td>23.4</td>\n",
       "    </tr>\n",
       "    <tr>\n",
       "      <th>1959-07-01</th>\n",
       "      <td>1629.5</td>\n",
       "      <td>1636.2</td>\n",
       "      <td>48.7</td>\n",
       "      <td>37.6</td>\n",
       "      <td>37.6</td>\n",
       "      <td>27.1</td>\n",
       "      <td>32.4</td>\n",
       "      <td>23.4</td>\n",
       "    </tr>\n",
       "    <tr>\n",
       "      <th>1959-10-01</th>\n",
       "      <td>1643.4</td>\n",
       "      <td>1650.3</td>\n",
       "      <td>48.8</td>\n",
       "      <td>37.7</td>\n",
       "      <td>37.8</td>\n",
       "      <td>27.1</td>\n",
       "      <td>32.5</td>\n",
       "      <td>23.8</td>\n",
       "    </tr>\n",
       "    <tr>\n",
       "      <th>1960-01-01</th>\n",
       "      <td>1671.6</td>\n",
       "      <td>1664.6</td>\n",
       "      <td>49.1</td>\n",
       "      <td>37.8</td>\n",
       "      <td>37.8</td>\n",
       "      <td>27.2</td>\n",
       "      <td>32.4</td>\n",
       "      <td>23.8</td>\n",
       "    </tr>\n",
       "  </tbody>\n",
       "</table>\n",
       "</div>"
      ],
      "text/plain": [
       "              rgnp    pgnp   ulc  gdfco   gdf  gdfim  gdfcf  gdfce\n",
       "date                                                              \n",
       "1959-01-01  1606.4  1608.3  47.5   36.9  37.4   26.9   32.3   23.1\n",
       "1959-04-01  1637.0  1622.2  47.5   37.4  37.5   27.0   32.2   23.4\n",
       "1959-07-01  1629.5  1636.2  48.7   37.6  37.6   27.1   32.4   23.4\n",
       "1959-10-01  1643.4  1650.3  48.8   37.7  37.8   27.1   32.5   23.8\n",
       "1960-01-01  1671.6  1664.6  49.1   37.8  37.8   27.2   32.4   23.8"
      ]
     },
     "execution_count": 29,
     "metadata": {},
     "output_type": "execute_result"
    }
   ],
   "source": [
    "filepath = 'https://raw.githubusercontent.com/selva86/datasets/master/Raotbl6.csv'\n",
    "macro_data = pd.read_csv(filepath, parse_dates=['date'], index_col='date')        # reading the dataset\n",
    "print(macro_data.shape)  # (123, 8)\n",
    "macro_data.head()"
   ]
  },
  {
   "cell_type": "code",
   "execution_count": 30,
   "id": "2c9d8ae3",
   "metadata": {},
   "outputs": [
    {
     "data": {
      "image/png": "[encoded data removed]",
      "text/plain": [
       "<Figure size 1200x720 with 8 Axes>"
      ]
     },
     "metadata": {
      "needs_background": "light"
     },
     "output_type": "display_data"
    }
   ],
   "source": [
    "fig, axes = plt.subplots(nrows=4, ncols=2, dpi=120, figsize=(10,6)) # creating the subplotes to see the visuilation of data \n",
    "for i, ax in enumerate(axes.flatten()):\n",
    "    data = macro_data[macro_data.columns[i]]\n",
    "    ax.plot(data, color='red', linewidth=1)\n",
    "    # Decorations\n",
    "    ax.set_title(macro_data.columns[i])\n",
    "    ax.xaxis.set_ticks_position('none')\n",
    "    ax.yaxis.set_ticks_position('none') \n",
    "    ax.spines[\"top\"].set_alpha(0)\n",
    "    ax.tick_params(labelsize=6)\n",
    "\n",
    "plt.tight_layout();"
   ]
  },
  {
   "cell_type": "code",
   "execution_count": null,
   "id": "04c79200",
   "metadata": {},
   "outputs": [],
   "source": [
    "# now by looking at the graph we are taking the rgnp and ulc which seems to be corelated we are using this both for vector auto regression "
   ]
  },
  {
   "cell_type": "code",
   "execution_count": null,
   "id": "7f46b1fb",
   "metadata": {},
   "outputs": [],
   "source": [
    "# now we should check our data is stationary or not \n",
    "# to check we are using agumented dickyfuller test"
   ]
  },
  {
   "cell_type": "code",
   "execution_count": 31,
   "id": "551cc1f7",
   "metadata": {},
   "outputs": [
    {
     "name": "stdout",
     "output_type": "stream",
     "text": [
      "realgdp\n",
      "ADF Statistic: 0.6418816546694839\n",
      "p-value: 0.9886037114305949\n",
      "\n",
      "---------------------\n",
      "\n",
      "realcons\n",
      "ADF Statistic: 1.3967161828616612\n",
      "p-value: 0.9970991728829679\n"
     ]
    }
   ],
   "source": [
    "ad_fuller_result_1 = adfuller(macro_data['rgnp'])\n",
    "\n",
    "print('realgdp')\n",
    "print(f'ADF Statistic: {ad_fuller_result_1[0]}')\n",
    "print(f'p-value: {ad_fuller_result_1[1]}')\n",
    "\n",
    "print('\\n---------------------\\n')\n",
    "\n",
    "ad_fuller_result_2 = adfuller(macro_data['ulc'])\n",
    "\n",
    "print('realcons')\n",
    "print(f'ADF Statistic: {ad_fuller_result_2[0]}')\n",
    "print(f'p-value: {ad_fuller_result_2[1]}')"
   ]
  },
  {
   "cell_type": "code",
   "execution_count": null,
   "id": "327f60e4",
   "metadata": {},
   "outputs": [],
   "source": [
    "# if the p value are stationary then the p-value should be less the 0.005\n",
    "# in our case it is not stationary p-value are more then 0.005\n",
    "# so now we are converting our data to stationary \n",
    "# it is done by differencing ie sustracting the data by its previous value "
   ]
  },
  {
   "cell_type": "code",
   "execution_count": 32,
   "id": "4c5550c2",
   "metadata": {},
   "outputs": [
    {
     "name": "stdout",
     "output_type": "stream",
     "text": [
      "realgdp\n",
      "ADF Statistic: -5.427594381007334\n",
      "p-value: 2.9633019848468996e-06\n",
      "\n",
      "---------------------\n",
      "\n",
      "realcons\n",
      "ADF Statistic: -3.57608047315091\n",
      "p-value: 0.006235131830238183\n"
     ]
    }
   ],
   "source": [
    "ad_fuller_result_1 = adfuller(macro_data['rgnp'].diff()[1:])\n",
    "\n",
    "print('realgdp')\n",
    "print(f'ADF Statistic: {ad_fuller_result_1[0]}')\n",
    "print(f'p-value: {ad_fuller_result_1[1]}')\n",
    "\n",
    "print('\\n---------------------\\n')\n",
    "\n",
    "ad_fuller_result_2 = adfuller(macro_data['ulc'].diff()[1:])\n",
    "\n",
    "print('realcons')\n",
    "print(f'ADF Statistic: {ad_fuller_result_2[0]}')\n",
    "print(f'p-value: {ad_fuller_result_2[1]}')"
   ]
  },
  {
   "cell_type": "code",
   "execution_count": null,
   "id": "dfd91be9",
   "metadata": {},
   "outputs": [],
   "source": [
    "# when we are doing vector autoregression it is importent to know that the two time seires we are working with are they corelated or any corelation b/w them.\n",
    "# to Check that we have  granger causality test."
   ]
  },
  {
   "cell_type": "code",
   "execution_count": 33,
   "id": "f245ab11",
   "metadata": {},
   "outputs": [
    {
     "name": "stdout",
     "output_type": "stream",
     "text": [
      "rgnp causes ulc?\n",
      "\n",
      "------------------\n",
      "\n",
      "Granger Causality\n",
      "number of lags (no zero) 1\n",
      "ssr based F test:         F=22.3802 , p=0.0000  , df_denom=119, df_num=1\n",
      "ssr based chi2 test:   chi2=22.9444 , p=0.0000  , df=1\n",
      "likelihood ratio test: chi2=21.0242 , p=0.0000  , df=1\n",
      "parameter F test:         F=22.3802 , p=0.0000  , df_denom=119, df_num=1\n",
      "\n",
      "Granger Causality\n",
      "number of lags (no zero) 2\n",
      "ssr based F test:         F=7.7188  , p=0.0007  , df_denom=116, df_num=2\n",
      "ssr based chi2 test:   chi2=16.1029 , p=0.0003  , df=2\n",
      "likelihood ratio test: chi2=15.1179 , p=0.0005  , df=2\n",
      "parameter F test:         F=7.7188  , p=0.0007  , df_denom=116, df_num=2\n",
      "\n",
      "Granger Causality\n",
      "number of lags (no zero) 3\n",
      "ssr based F test:         F=7.5231  , p=0.0001  , df_denom=113, df_num=3\n",
      "ssr based chi2 test:   chi2=23.9675 , p=0.0000  , df=3\n",
      "likelihood ratio test: chi2=21.8515 , p=0.0001  , df=3\n",
      "parameter F test:         F=7.5231  , p=0.0001  , df_denom=113, df_num=3\n",
      "\n",
      "Granger Causality\n",
      "number of lags (no zero) 4\n",
      "ssr based F test:         F=8.3018  , p=0.0000  , df_denom=110, df_num=4\n",
      "ssr based chi2 test:   chi2=35.9239 , p=0.0000  , df=4\n",
      "likelihood ratio test: chi2=31.3935 , p=0.0000  , df=4\n",
      "parameter F test:         F=8.3018  , p=0.0000  , df_denom=110, df_num=4\n",
      "\n",
      "ulc causes rgnp?\n",
      "\n",
      "------------------\n",
      "\n",
      "Granger Causality\n",
      "number of lags (no zero) 1\n",
      "ssr based F test:         F=0.3729  , p=0.5426  , df_denom=119, df_num=1\n",
      "ssr based chi2 test:   chi2=0.3823  , p=0.5364  , df=1\n",
      "likelihood ratio test: chi2=0.3817  , p=0.5367  , df=1\n",
      "parameter F test:         F=0.3729  , p=0.5426  , df_denom=119, df_num=1\n",
      "\n",
      "Granger Causality\n",
      "number of lags (no zero) 2\n",
      "ssr based F test:         F=4.6201  , p=0.0117  , df_denom=116, df_num=2\n",
      "ssr based chi2 test:   chi2=9.6386  , p=0.0081  , df=2\n",
      "likelihood ratio test: chi2=9.2739  , p=0.0097  , df=2\n",
      "parameter F test:         F=4.6201  , p=0.0117  , df_denom=116, df_num=2\n",
      "\n",
      "Granger Causality\n",
      "number of lags (no zero) 3\n",
      "ssr based F test:         F=4.0976  , p=0.0084  , df_denom=113, df_num=3\n",
      "ssr based chi2 test:   chi2=13.0544 , p=0.0045  , df=3\n",
      "likelihood ratio test: chi2=12.3920 , p=0.0062  , df=3\n",
      "parameter F test:         F=4.0976  , p=0.0084  , df_denom=113, df_num=3\n",
      "\n",
      "Granger Causality\n",
      "number of lags (no zero) 4\n",
      "ssr based F test:         F=5.4664  , p=0.0005  , df_denom=110, df_num=4\n",
      "ssr based chi2 test:   chi2=23.6547 , p=0.0001  , df=4\n",
      "likelihood ratio test: chi2=21.5751 , p=0.0002  , df=4\n",
      "parameter F test:         F=5.4664  , p=0.0005  , df_denom=110, df_num=4\n"
     ]
    }
   ],
   "source": [
    "print('rgnp causes ulc?\\n')\n",
    "print('------------------')\n",
    "granger_1 = grangercausalitytests(macro_data[['ulc', 'rgnp']], 4)\n",
    "\n",
    "print('\\nulc causes rgnp?\\n')\n",
    "print('------------------')\n",
    "granger_2 = grangercausalitytests(macro_data[['rgnp', 'ulc']], 4)"
   ]
  },
  {
   "cell_type": "code",
   "execution_count": 34,
   "id": "874bc6f9",
   "metadata": {},
   "outputs": [
    {
     "name": "stdout",
     "output_type": "stream",
     "text": [
      "(123, 2)\n"
     ]
    }
   ],
   "source": [
    "macro_data = macro_data[['ulc','rgnp']]\n",
    "print(macro_data.shape)                    # extracting the data which we are working "
   ]
  },
  {
   "cell_type": "code",
   "execution_count": 35,
   "id": "45dc223c",
   "metadata": {},
   "outputs": [],
   "source": [
    "train_df=macro_data[:-12]                  # spliting the data set into train and test\n",
    "test_df=macro_data[-12:]"
   ]
  },
  {
   "cell_type": "code",
   "execution_count": 37,
   "id": "2b2dbef1",
   "metadata": {},
   "outputs": [
    {
     "name": "stdout",
     "output_type": "stream",
     "text": [
      "(12, 2)\n"
     ]
    }
   ],
   "source": [
    "print(test_df.shape)"
   ]
  },
  {
   "cell_type": "code",
   "execution_count": 38,
   "id": "10ea5639",
   "metadata": {},
   "outputs": [],
   "source": [
    "model = VAR(train_df.diff()[1:])             "
   ]
  },
  {
   "cell_type": "code",
   "execution_count": 39,
   "id": "c8daba4e",
   "metadata": {},
   "outputs": [
    {
     "name": "stdout",
     "output_type": "stream",
     "text": [
      " VAR Order Selection (* highlights the minimums)  \n",
      "==================================================\n",
      "       AIC         BIC         FPE         HQIC   \n",
      "--------------------------------------------------\n",
      "0        6.747       6.799       851.1       6.768\n",
      "1        5.863      6.019*       351.7       5.926\n",
      "2        5.799       6.060       330.1       5.905\n",
      "3        5.769       6.133       320.2       5.916\n",
      "4       5.631*       6.100      279.3*      5.821*\n",
      "5        5.701       6.274       299.7       5.933\n",
      "6        5.646       6.324       284.1       5.921\n",
      "7        5.710       6.491       303.2       6.026\n",
      "8        5.705       6.591       302.5       6.064\n",
      "9        5.750       6.740       317.0       6.150\n",
      "10       5.750       6.845       318.3       6.193\n",
      "--------------------------------------------------\n"
     ]
    }
   ],
   "source": [
    "sorted_order=model.select_order(maxlags=10)\n",
    "print(sorted_order.summary())                  # select the minimum AIC score "
   ]
  },
  {
   "cell_type": "code",
   "execution_count": 46,
   "id": "f10e3aff",
   "metadata": {},
   "outputs": [
    {
     "name": "stdout",
     "output_type": "stream",
     "text": [
      "                           Statespace Model Results                           \n",
      "==============================================================================\n",
      "Dep. Variable:        ['ulc', 'rgnp']   No. Observations:                  111\n",
      "Model:                         VAR(4)   Log Likelihood              -11842.734\n",
      "                          + intercept   AIC                          23727.467\n",
      "Date:                Sun, 24 Jul 2022   BIC                          23784.368\n",
      "Time:                        10:46:15   HQIC                         23750.550\n",
      "Sample:                    01-01-1959                                         \n",
      "                         - 07-01-1986                                         \n",
      "Covariance Type:                  opg                                         \n",
      "===================================================================================\n",
      "Ljung-Box (L1) (Q):          36.36, 106.09   Jarque-Bera (JB):         23.22, 13.76\n",
      "Prob(Q):                        0.00, 0.00   Prob(JB):                   0.00, 0.00\n",
      "Heteroskedasticity (H):         1.67, 0.27   Skew:                      0.68, -0.86\n",
      "Prob(H) (two-sided):            0.12, 0.00   Kurtosis:                   4.77, 2.87\n",
      "                           Results for equation ulc                           \n",
      "==============================================================================\n",
      "                 coef    std err          z      P>|z|      [0.025      0.975]\n",
      "------------------------------------------------------------------------------\n",
      "intercept     89.2199     24.197      3.687      0.000      41.795     136.645\n",
      "L1.ulc        -0.8329      1.165     -0.715      0.475      -3.116       1.450\n",
      "L1.rgnp       -0.6102      0.179     -3.410      0.001      -0.961      -0.259\n",
      "L2.ulc        -0.3874      1.935     -0.200      0.841      -4.181       3.406\n",
      "L2.rgnp        0.2098      0.314      0.667      0.504      -0.406       0.826\n",
      "L3.ulc         1.4055      0.891      1.577      0.115      -0.342       3.153\n",
      "L3.rgnp        0.4985      0.320      1.557      0.119      -0.129       1.126\n",
      "L4.ulc         1.4328      2.897      0.495      0.621      -4.246       7.111\n",
      "L4.rgnp       -0.1515      0.076     -1.990      0.047      -0.301      -0.002\n",
      "                          Results for equation rgnp                           \n",
      "==============================================================================\n",
      "                 coef    std err          z      P>|z|      [0.025      0.975]\n",
      "------------------------------------------------------------------------------\n",
      "intercept   2614.7929     57.669     45.341      0.000    2501.764    2727.822\n",
      "L1.ulc         2.1521      1.050      2.050      0.040       0.095       4.210\n",
      "L1.rgnp       -1.3997      0.302     -4.634      0.000      -1.992      -0.808\n",
      "L2.ulc         4.9532      1.259      3.934      0.000       2.486       7.421\n",
      "L2.rgnp        0.8405      0.167      5.020      0.000       0.512       1.169\n",
      "L3.ulc         7.3466      0.926      7.934      0.000       5.532       9.161\n",
      "L3.rgnp        0.4754      0.257      1.848      0.065      -0.029       0.979\n",
      "L4.ulc         3.6682      1.372      2.674      0.007       0.980       6.357\n",
      "L4.rgnp       -0.4839      0.072     -6.753      0.000      -0.624      -0.343\n",
      "                               Error covariance matrix                               \n",
      "=====================================================================================\n",
      "                        coef    std err          z      P>|z|      [0.025      0.975]\n",
      "-------------------------------------------------------------------------------------\n",
      "sqrt.var.ulc         40.3481      7.234      5.577      0.000      26.170      54.527\n",
      "sqrt.cov.ulc.rgnp   -15.4004     18.062     -0.853      0.394     -50.801      20.000\n",
      "sqrt.var.rgnp        26.6647      0.346     76.994      0.000      25.986      27.343\n",
      "=====================================================================================\n",
      "\n",
      "Warnings:\n",
      "[1] Covariance matrix calculated using the outer product of gradients (complex-step).\n",
      "[2] Covariance matrix is singular or near-singular, with condition number 1.01e+16. Standard errors may be unstable.\n"
     ]
    }
   ],
   "source": [
    "var_model = VARMAX(train_df, order=(4,0),enforce_stationarity= True) \n",
    "fitted_model = var_model.fit(disp=False)                             \n",
    "print(fitted_model.summary())                                         "
   ]
  },
  {
   "cell_type": "code",
   "execution_count": 47,
   "id": "2b707d31",
   "metadata": {},
   "outputs": [],
   "source": [
    "n_forecast = 12\n",
    "predict = fitted_model.get_prediction(start=len(train_df),end=len(train_df) + n_forecast-1)#start=\"1989-07-01\",end='1999-01-01')\n",
    "predictions=predict.predicted_mean"
   ]
  },
  {
   "cell_type": "code",
   "execution_count": 48,
   "id": "04a8ec87",
   "metadata": {},
   "outputs": [
    {
     "data": {
      "text/html": [
       "<div>\n",
       "<style scoped>\n",
       "    .dataframe tbody tr th:only-of-type {\n",
       "        vertical-align: middle;\n",
       "    }\n",
       "\n",
       "    .dataframe tbody tr th {\n",
       "        vertical-align: top;\n",
       "    }\n",
       "\n",
       "    .dataframe thead th {\n",
       "        text-align: right;\n",
       "    }\n",
       "</style>\n",
       "<table border=\"1\" class=\"dataframe\">\n",
       "  <thead>\n",
       "    <tr style=\"text-align: right;\">\n",
       "      <th></th>\n",
       "      <th>ulc_predicted</th>\n",
       "      <th>rgnp_predicted</th>\n",
       "    </tr>\n",
       "  </thead>\n",
       "  <tbody>\n",
       "    <tr>\n",
       "      <th>1986-10-01</th>\n",
       "      <td>166.400493</td>\n",
       "      <td>3567.586650</td>\n",
       "    </tr>\n",
       "    <tr>\n",
       "      <th>1987-01-01</th>\n",
       "      <td>244.182423</td>\n",
       "      <td>3756.488804</td>\n",
       "    </tr>\n",
       "    <tr>\n",
       "      <th>1987-04-01</th>\n",
       "      <td>48.800377</td>\n",
       "      <td>3553.230217</td>\n",
       "    </tr>\n",
       "    <tr>\n",
       "      <th>1987-07-01</th>\n",
       "      <td>268.821484</td>\n",
       "      <td>3863.310147</td>\n",
       "    </tr>\n",
       "    <tr>\n",
       "      <th>1987-10-01</th>\n",
       "      <td>147.943171</td>\n",
       "      <td>3477.900615</td>\n",
       "    </tr>\n",
       "    <tr>\n",
       "      <th>1988-01-01</th>\n",
       "      <td>170.526448</td>\n",
       "      <td>3769.542421</td>\n",
       "    </tr>\n",
       "    <tr>\n",
       "      <th>1988-04-01</th>\n",
       "      <td>154.371596</td>\n",
       "      <td>3632.715388</td>\n",
       "    </tr>\n",
       "    <tr>\n",
       "      <th>1988-07-01</th>\n",
       "      <td>210.022506</td>\n",
       "      <td>3732.242300</td>\n",
       "    </tr>\n",
       "    <tr>\n",
       "      <th>1988-10-01</th>\n",
       "      <td>142.802438</td>\n",
       "      <td>3565.312599</td>\n",
       "    </tr>\n",
       "    <tr>\n",
       "      <th>1989-01-01</th>\n",
       "      <td>197.233223</td>\n",
       "      <td>3771.590078</td>\n",
       "    </tr>\n",
       "    <tr>\n",
       "      <th>1989-04-01</th>\n",
       "      <td>142.457463</td>\n",
       "      <td>3589.856206</td>\n",
       "    </tr>\n",
       "    <tr>\n",
       "      <th>1989-07-01</th>\n",
       "      <td>208.138808</td>\n",
       "      <td>3752.114121</td>\n",
       "    </tr>\n",
       "  </tbody>\n",
       "</table>\n",
       "</div>"
      ],
      "text/plain": [
       "            ulc_predicted  rgnp_predicted\n",
       "1986-10-01     166.400493     3567.586650\n",
       "1987-01-01     244.182423     3756.488804\n",
       "1987-04-01      48.800377     3553.230217\n",
       "1987-07-01     268.821484     3863.310147\n",
       "1987-10-01     147.943171     3477.900615\n",
       "1988-01-01     170.526448     3769.542421\n",
       "1988-04-01     154.371596     3632.715388\n",
       "1988-07-01     210.022506     3732.242300\n",
       "1988-10-01     142.802438     3565.312599\n",
       "1989-01-01     197.233223     3771.590078\n",
       "1989-04-01     142.457463     3589.856206\n",
       "1989-07-01     208.138808     3752.114121"
      ]
     },
     "execution_count": 48,
     "metadata": {},
     "output_type": "execute_result"
    }
   ],
   "source": [
    "predictions.columns=['ulc_predicted','rgnp_predicted']\n",
    "predictions"
   ]
  },
  {
   "cell_type": "code",
   "execution_count": 43,
   "id": "cd2afbab",
   "metadata": {},
   "outputs": [],
   "source": [
    "test_vs_pred=pd.concat([test_df,predictions],axis=1)"
   ]
  },
  {
   "cell_type": "code",
   "execution_count": 44,
   "id": "aa486c01",
   "metadata": {},
   "outputs": [
    {
     "data": {
      "text/plain": [
       "<AxesSubplot:>"
      ]
     },
     "execution_count": 44,
     "metadata": {},
     "output_type": "execute_result"
    },
    {
     "data": {
      "image/png": "[encoded data removed]",
      "text/plain": [
       "<Figure size 864x360 with 1 Axes>"
      ]
     },
     "metadata": {
      "needs_background": "light"
     },
     "output_type": "display_data"
    }
   ],
   "source": [
    "test_vs_pred.plot(figsize=(12,5))"
   ]
  },
  {
   "cell_type": "code",
   "execution_count": 45,
   "id": "e926c466",
   "metadata": {},
   "outputs": [
    {
     "name": "stdout",
     "output_type": "stream",
     "text": [
      "Mean value of ULC is : 178.56666666666666. Root Mean Squared Error is :54.675365957478576\n",
      "Mean value of RGNP is : 3970.6916666666666. Root Mean Squared Error is :344.2324753430397\n"
     ]
    }
   ],
   "source": [
    "from sklearn.metrics import mean_squared_error \n",
    "import math \n",
    "from statistics import mean\n",
    "\n",
    "rmse_ulc=math.sqrt(mean_squared_error(predictions['ulc_predicted'],test_df['ulc']))\n",
    "print('Mean value of ULC is : {}. Root Mean Squared Error is :{}'.format(mean(test_df['ulc']),rmse_ulc))\n",
    "\n",
    "rmse_rgnp=math.sqrt(mean_squared_error(predictions['rgnp_predicted'],test_df['rgnp']))\n",
    "print('Mean value of RGNP is : {}. Root Mean Squared Error is :{}'.format(mean(test_df['rgnp']),rmse_rgnp))"
   ]
  },
  {
   "cell_type": "code",
   "execution_count": null,
   "id": "8c387635",
   "metadata": {},
   "outputs": [],
   "source": []
  }
 ],
 "metadata": {
  "kernelspec": {
   "display_name": "Python 3 (ipykernel)",
   "language": "python",
   "name": "python3"
  },
  "language_info": {
   "codemirror_mode": {
    "name": "ipython",
    "version": 3
   },
   "file_extension": ".py",
   "mimetype": "text/x-python",
   "name": "python",
   "nbconvert_exporter": "python",
   "pygments_lexer": "ipython3",
   "version": "3.9.7"
  }
 },
 "nbformat": 4,
 "nbformat_minor": 5
}
